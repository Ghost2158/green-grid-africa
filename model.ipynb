{
 "cells": [
  {
   "cell_type": "markdown",
   "id": "7540f9fe",
   "metadata": {},
   "source": [
    "IMPORTING LIBRARIES"
   ]
  },
  {
   "cell_type": "markdown",
   "id": "ccd0aa0f",
   "metadata": {},
   "source": [
    "import requests"
   ]
  },
  {
   "cell_type": "code",
   "execution_count": 34,
   "id": "68de0324",
   "metadata": {},
   "outputs": [],
   "source": [
    "import requests #This library help us to fetch data from API\n",
    "import json #This library help us to convert data into JSON format\n",
    "import pandas as pd #This library help us to convert data into DataFrame format\n",
    "import numpy as np #This library help us to perform mathematical operation\n",
    "from sklearn.model_selection import train_test_split #This library help us to split data into train and test\n",
    "from sklearn.linear_model import LinearRegression #This library help us to create Linear Regression model\n",
    "from sklearn.metrics import mean_squared_error #This library help us to calculate mean absolute error\n",
    "from sklearn.preprocessing import LabelEncoder #This library help us to perform scaling and normalization\n",
    "from sklearn.ensemble import RandomForestClassifier,RandomForestRegressor #This library help us to create Random Forest model\n",
    "from datetime import datetime,timedelta #This library help us to get current date and time\n",
    "import pytz\n"
   ]
  },
  {
   "cell_type": "markdown",
   "id": "bbedb837",
   "metadata": {},
   "source": [
    "### 2.FETCH WEATHER DATA"
   ]
  },
  {
   "cell_type": "code",
   "execution_count": 35,
   "id": "e7a3f4ee",
   "metadata": {},
   "outputs": [
    {
     "data": {
      "text/plain": [
       "{'city': 'Nairobi',\n",
       " 'current_temperature': 19,\n",
       " 'feels_like': 18.65,\n",
       " 'temp_min': 19,\n",
       " 'temp_max': 19,\n",
       " 'description': 'scattered clouds',\n",
       " 'humidity': 68,\n",
       " 'country': 'KE',\n",
       " 'wind_gust_dir': 160,\n",
       " 'wind_gust_speed': 2.57,\n",
       " 'pressure': 1020}"
      ]
     },
     "execution_count": 35,
     "metadata": {},
     "output_type": "execute_result"
    }
   ],
   "source": [
    "API_KEY = 'baa89485126a855a79755dea6b31d01b'\n",
    "BASE_URL = 'https://api.openweathermap.org/data/2.5/' #base url for openweathermap api\n",
    "def get_current_weather(city):\n",
    "    url = f\"{BASE_URL}weather?q={city}&appid={API_KEY}&units=metric\" #contructing the API URL\n",
    "    try:\n",
    "        response = requests.get(url) #making a GET request to the API\n",
    "        data =response.json()\n",
    "    except:\n",
    "      return None\n",
    "    return {\n",
    "       'city': data['name'],\n",
    "       'current_temperature': round(data['main']['temp']),\n",
    "       'feels_like':data['main']['feels_like'],\n",
    "       'temp_min': round(data['main']['temp_min']),\n",
    "       'temp_max': round(data['main']['temp_max']),\n",
    "       'description': data['weather'][0]['description'],\n",
    "       'humidity': round(data['main']['humidity']),\n",
    "       'country':data['sys']['country'],\n",
    "       'wind_gust_dir':data['wind']['deg'],\n",
    "       'wind_gust_speed':data['wind']['speed'],\n",
    "       'pressure':data['main']['pressure']\n",
    "    }\n",
    "get_current_weather(\"Nairobi\")\n"
   ]
  },
  {
   "cell_type": "markdown",
   "id": "415ac15f",
   "metadata": {},
   "source": [
    "#### 3. Read Historical Data"
   ]
  },
  {
   "cell_type": "code",
   "execution_count": 36,
   "id": "2a299891",
   "metadata": {},
   "outputs": [
    {
     "data": {
      "text/html": [
       "<div>\n",
       "<style scoped>\n",
       "    .dataframe tbody tr th:only-of-type {\n",
       "        vertical-align: middle;\n",
       "    }\n",
       "\n",
       "    .dataframe tbody tr th {\n",
       "        vertical-align: top;\n",
       "    }\n",
       "\n",
       "    .dataframe thead th {\n",
       "        text-align: right;\n",
       "    }\n",
       "</style>\n",
       "<table border=\"1\" class=\"dataframe\">\n",
       "  <thead>\n",
       "    <tr style=\"text-align: right;\">\n",
       "      <th></th>\n",
       "      <th>MinTemp</th>\n",
       "      <th>MaxTemp</th>\n",
       "      <th>WindGustDir</th>\n",
       "      <th>WindGustSpeed</th>\n",
       "      <th>Humidity</th>\n",
       "      <th>Pressure</th>\n",
       "      <th>Temp</th>\n",
       "      <th>RainTomorrow</th>\n",
       "    </tr>\n",
       "  </thead>\n",
       "  <tbody>\n",
       "    <tr>\n",
       "      <th>0</th>\n",
       "      <td>8.0</td>\n",
       "      <td>24.3</td>\n",
       "      <td>NW</td>\n",
       "      <td>30.0</td>\n",
       "      <td>29</td>\n",
       "      <td>1015.0</td>\n",
       "      <td>23.6</td>\n",
       "      <td>Yes</td>\n",
       "    </tr>\n",
       "    <tr>\n",
       "      <th>1</th>\n",
       "      <td>14.0</td>\n",
       "      <td>26.9</td>\n",
       "      <td>ENE</td>\n",
       "      <td>39.0</td>\n",
       "      <td>36</td>\n",
       "      <td>1008.4</td>\n",
       "      <td>25.7</td>\n",
       "      <td>Yes</td>\n",
       "    </tr>\n",
       "    <tr>\n",
       "      <th>2</th>\n",
       "      <td>13.7</td>\n",
       "      <td>23.4</td>\n",
       "      <td>NW</td>\n",
       "      <td>85.0</td>\n",
       "      <td>69</td>\n",
       "      <td>1007.2</td>\n",
       "      <td>20.2</td>\n",
       "      <td>Yes</td>\n",
       "    </tr>\n",
       "    <tr>\n",
       "      <th>3</th>\n",
       "      <td>13.3</td>\n",
       "      <td>15.5</td>\n",
       "      <td>NW</td>\n",
       "      <td>54.0</td>\n",
       "      <td>56</td>\n",
       "      <td>1007.0</td>\n",
       "      <td>14.1</td>\n",
       "      <td>Yes</td>\n",
       "    </tr>\n",
       "    <tr>\n",
       "      <th>4</th>\n",
       "      <td>7.6</td>\n",
       "      <td>16.1</td>\n",
       "      <td>SSE</td>\n",
       "      <td>50.0</td>\n",
       "      <td>49</td>\n",
       "      <td>1018.5</td>\n",
       "      <td>15.4</td>\n",
       "      <td>No</td>\n",
       "    </tr>\n",
       "  </tbody>\n",
       "</table>\n",
       "</div>"
      ],
      "text/plain": [
       "   MinTemp  MaxTemp WindGustDir  ...  Pressure  Temp  RainTomorrow\n",
       "0      8.0     24.3          NW  ...    1015.0  23.6           Yes\n",
       "1     14.0     26.9         ENE  ...    1008.4  25.7           Yes\n",
       "2     13.7     23.4          NW  ...    1007.2  20.2           Yes\n",
       "3     13.3     15.5          NW  ...    1007.0  14.1           Yes\n",
       "4      7.6     16.1         SSE  ...    1018.5  15.4            No\n",
       "\n",
       "[5 rows x 8 columns]"
      ]
     },
     "execution_count": 36,
     "metadata": {},
     "output_type": "execute_result"
    }
   ],
   "source": [
    "def read_historical_data(filename):\n",
    "    \"\"\"Read historical data from a file\"\"\"\n",
    "    df = pd.read_csv(filename) #load the file into DataFrame\n",
    "    df.dropna()#remove rows with missing values\n",
    "    df.drop_duplicates()\n",
    "    return df\n",
    "\n",
    "read_historical_data('weather.csv').head()"
   ]
  },
  {
   "cell_type": "markdown",
   "id": "a12fc88d",
   "metadata": {},
   "source": [
    "#### 4.Prepare data for training"
   ]
  },
  {
   "cell_type": "code",
   "execution_count": 37,
   "id": "e590e3e5",
   "metadata": {},
   "outputs": [],
   "source": [
    "def prepare_data(data):\n",
    "    le = LabelEncoder()\n",
    "    data['WindGustDir'] = le.fit_transform(data['WindGustDir'])\n",
    "    data['RainTommorow'] = le.fit_transform(data['RainTommorow'])\n",
    "\n",
    "    #define the feature variable\n",
    "    X = data[['MinTemp', 'MaxTemp', 'WindGustDir', 'WindGustSpeed', 'Humidity',\n",
    "       'Pressure', 'Temp']]\n",
    "    y = data['RainTommorow']\n",
    "    return X, y ,le #return Feature Variable and Target Variable and LabelEncoder\n",
    "\n"
   ]
  },
  {
   "cell_type": "markdown",
   "id": "d1838ed3",
   "metadata": {},
   "source": [
    "#### 5. **Train Rain Model**"
   ]
  },
  {
   "cell_type": "code",
   "execution_count": 38,
   "id": "b9a8b281",
   "metadata": {},
   "outputs": [],
   "source": [
    "def train_rain_model(X,y):\n",
    "    # Define the model\n",
    "    X_train ,X_test, y_train , y_test = train_test_split(X, y, test_size=0.2,random_state=42)\n",
    "    model = RandomForestClassifier(n_estimators=100,random_state=42)\n",
    "    model.fit(X_train, y_train) #train the model\n",
    "    y_pred = model.predict(X_test)\n",
    "    \n",
    "    print('Mean Squared Error for Rain Model: ')\n",
    "    print(mean_squared_error(y_test, y_pred))\n",
    "    return model"
   ]
  },
  {
   "cell_type": "markdown",
   "id": "5810bf00",
   "metadata": {},
   "source": [
    "#### 6. **Prepare Regression Data**"
   ]
  },
  {
   "cell_type": "markdown",
   "id": "cd92b25b",
   "metadata": {},
   "source": []
  },
  {
   "cell_type": "code",
   "execution_count": 39,
   "id": "4857b070",
   "metadata": {},
   "outputs": [],
   "source": [
    "def prepare_regression_data(data,feature):\n",
    "    X,y = [],[] #initialize list feature\n",
    "    for i in range(len(data) -1):\n",
    "        X.append(data[feature].iloc[i])\n",
    "        y.append(data[feature].iloc[i+1])\n",
    "\n",
    "    X = np.array(X).reshape(-1,1)\n",
    "    y = np.array(y)\n",
    "    return X,y\n"
   ]
  },
  {
   "cell_type": "markdown",
   "id": "fff54952",
   "metadata": {},
   "source": [
    "#### 7. **Train a Regression Model**"
   ]
  },
  {
   "cell_type": "code",
   "execution_count": 40,
   "id": "2061a523",
   "metadata": {},
   "outputs": [],
   "source": [
    "def train_regression_model(X,y):\n",
    "    model = RandomForestRegressor(n_estimators=100,random_state=42)\n",
    "    model.fit(X,y)\n",
    "    return model\n",
    "\n",
    "\n"
   ]
  },
  {
   "cell_type": "markdown",
   "id": "429c4738",
   "metadata": {},
   "source": [
    "#### 8.**Predict Future**"
   ]
  },
  {
   "cell_type": "code",
   "execution_count": 41,
   "id": "88ca501b",
   "metadata": {},
   "outputs": [],
   "source": [
    "def predict_future(model,current_value):\n",
    "    # predict future value\n",
    "    predictions = [current_value]\n",
    "    for i in range(1, 10):\n",
    "        next_value = model.predict(np.array[[predictions[-1]]])\n",
    "        predictions.append(next_value[0])\n",
    "        return predictions[1:]\n"
   ]
  },
  {
   "cell_type": "markdown",
   "id": "e168e89e",
   "metadata": {},
   "source": [
    "9. #### **Weather Analysis**"
   ]
  },
  {
   "cell_type": "code",
   "execution_count": 43,
   "id": "d14c4b81",
   "metadata": {},
   "outputs": [
    {
     "ename": "KeyError",
     "evalue": "'RainTommorow'",
     "output_type": "error",
     "traceback": [
      "\u001b[31m---------------------------------------------------------------------------\u001b[39m",
      "\u001b[31mKeyError\u001b[39m                                  Traceback (most recent call last)",
      "\u001b[36mFile \u001b[39m\u001b[32mc:\\Users\\defaultuser0\\Desktop\\ML\\complete-pandas-tutorial\\.venv\\Lib\\site-packages\\pandas\\core\\indexes\\base.py:3812\u001b[39m, in \u001b[36mIndex.get_loc\u001b[39m\u001b[34m(self, key)\u001b[39m\n\u001b[32m   3811\u001b[39m \u001b[38;5;28;01mtry\u001b[39;00m:\n\u001b[32m-> \u001b[39m\u001b[32m3812\u001b[39m     \u001b[38;5;28;01mreturn\u001b[39;00m \u001b[38;5;28;43mself\u001b[39;49m\u001b[43m.\u001b[49m\u001b[43m_engine\u001b[49m\u001b[43m.\u001b[49m\u001b[43mget_loc\u001b[49m\u001b[43m(\u001b[49m\u001b[43mcasted_key\u001b[49m\u001b[43m)\u001b[49m\n\u001b[32m   3813\u001b[39m \u001b[38;5;28;01mexcept\u001b[39;00m \u001b[38;5;167;01mKeyError\u001b[39;00m \u001b[38;5;28;01mas\u001b[39;00m err:\n",
      "\u001b[36mFile \u001b[39m\u001b[32mpandas/_libs/index.pyx:167\u001b[39m, in \u001b[36mpandas._libs.index.IndexEngine.get_loc\u001b[39m\u001b[34m()\u001b[39m\n",
      "\u001b[36mFile \u001b[39m\u001b[32mpandas/_libs/index.pyx:196\u001b[39m, in \u001b[36mpandas._libs.index.IndexEngine.get_loc\u001b[39m\u001b[34m()\u001b[39m\n",
      "\u001b[36mFile \u001b[39m\u001b[32mpandas/_libs/hashtable_class_helper.pxi:7088\u001b[39m, in \u001b[36mpandas._libs.hashtable.PyObjectHashTable.get_item\u001b[39m\u001b[34m()\u001b[39m\n",
      "\u001b[36mFile \u001b[39m\u001b[32mpandas/_libs/hashtable_class_helper.pxi:7096\u001b[39m, in \u001b[36mpandas._libs.hashtable.PyObjectHashTable.get_item\u001b[39m\u001b[34m()\u001b[39m\n",
      "\u001b[31mKeyError\u001b[39m: 'RainTommorow'",
      "\nThe above exception was the direct cause of the following exception:\n",
      "\u001b[31mKeyError\u001b[39m                                  Traceback (most recent call last)",
      "\u001b[36mCell\u001b[39m\u001b[36m \u001b[39m\u001b[32mIn[43]\u001b[39m\u001b[32m, line 73\u001b[39m\n\u001b[32m     71\u001b[39m     \u001b[38;5;28;01mfor\u001b[39;00m time ,humidity \u001b[38;5;129;01min\u001b[39;00m \u001b[38;5;28mzip\u001b[39m(future_times,future_humidity):\n\u001b[32m     72\u001b[39m         \u001b[38;5;28mprint\u001b[39m(\u001b[33mf\u001b[39m\u001b[33m\"\u001b[39m\u001b[38;5;132;01m{\u001b[39;00mtime\u001b[38;5;132;01m}\u001b[39;00m\u001b[33m: \u001b[39m\u001b[38;5;132;01m{\u001b[39;00m\u001b[38;5;28mround\u001b[39m(humidity\u001b[38;5;250m \u001b[39m,\u001b[38;5;250m \u001b[39m\u001b[32m1\u001b[39m)\u001b[38;5;132;01m}\u001b[39;00m\u001b[33m%\u001b[39m\u001b[33m\"\u001b[39m)\n\u001b[32m---> \u001b[39m\u001b[32m73\u001b[39m \u001b[43mweather_view\u001b[49m\u001b[43m(\u001b[49m\u001b[43m)\u001b[49m\n",
      "\u001b[36mCell\u001b[39m\u001b[36m \u001b[39m\u001b[32mIn[43]\u001b[39m\u001b[32m, line 9\u001b[39m, in \u001b[36mweather_view\u001b[39m\u001b[34m()\u001b[39m\n\u001b[32m      6\u001b[39m historical_data =read_historical_data(\u001b[33m'\u001b[39m\u001b[33mweather.csv\u001b[39m\u001b[33m'\u001b[39m)\n\u001b[32m      8\u001b[39m \u001b[38;5;66;03m#prepare and and Train the rain prediction Model\u001b[39;00m\n\u001b[32m----> \u001b[39m\u001b[32m9\u001b[39m X,y,le = \u001b[43mprepare_data\u001b[49m\u001b[43m(\u001b[49m\u001b[43mhistorical_data\u001b[49m\u001b[43m)\u001b[49m\n\u001b[32m     11\u001b[39m rain_model = train_rain_model(X,y)\n\u001b[32m     12\u001b[39m \u001b[38;5;66;03m# Map wind direction to compass points\u001b[39;00m\n",
      "\u001b[36mCell\u001b[39m\u001b[36m \u001b[39m\u001b[32mIn[37]\u001b[39m\u001b[32m, line 4\u001b[39m, in \u001b[36mprepare_data\u001b[39m\u001b[34m(data)\u001b[39m\n\u001b[32m      2\u001b[39m le = LabelEncoder()\n\u001b[32m      3\u001b[39m data[\u001b[33m'\u001b[39m\u001b[33mWindGustDir\u001b[39m\u001b[33m'\u001b[39m] = le.fit_transform(data[\u001b[33m'\u001b[39m\u001b[33mWindGustDir\u001b[39m\u001b[33m'\u001b[39m])\n\u001b[32m----> \u001b[39m\u001b[32m4\u001b[39m data[\u001b[33m'\u001b[39m\u001b[33mRainTommorow\u001b[39m\u001b[33m'\u001b[39m] = le.fit_transform(\u001b[43mdata\u001b[49m\u001b[43m[\u001b[49m\u001b[33;43m'\u001b[39;49m\u001b[33;43mRainTommorow\u001b[39;49m\u001b[33;43m'\u001b[39;49m\u001b[43m]\u001b[49m)\n\u001b[32m      6\u001b[39m \u001b[38;5;66;03m#define the feature variable\u001b[39;00m\n\u001b[32m      7\u001b[39m X = data[[\u001b[33m'\u001b[39m\u001b[33mMinTemp\u001b[39m\u001b[33m'\u001b[39m, \u001b[33m'\u001b[39m\u001b[33mMaxTemp\u001b[39m\u001b[33m'\u001b[39m, \u001b[33m'\u001b[39m\u001b[33mWindGustDir\u001b[39m\u001b[33m'\u001b[39m, \u001b[33m'\u001b[39m\u001b[33mWindGustSpeed\u001b[39m\u001b[33m'\u001b[39m, \u001b[33m'\u001b[39m\u001b[33mHumidity\u001b[39m\u001b[33m'\u001b[39m,\n\u001b[32m      8\u001b[39m    \u001b[33m'\u001b[39m\u001b[33mPressure\u001b[39m\u001b[33m'\u001b[39m, \u001b[33m'\u001b[39m\u001b[33mTemp\u001b[39m\u001b[33m'\u001b[39m]]\n",
      "\u001b[36mFile \u001b[39m\u001b[32mc:\\Users\\defaultuser0\\Desktop\\ML\\complete-pandas-tutorial\\.venv\\Lib\\site-packages\\pandas\\core\\frame.py:4107\u001b[39m, in \u001b[36mDataFrame.__getitem__\u001b[39m\u001b[34m(self, key)\u001b[39m\n\u001b[32m   4105\u001b[39m \u001b[38;5;28;01mif\u001b[39;00m \u001b[38;5;28mself\u001b[39m.columns.nlevels > \u001b[32m1\u001b[39m:\n\u001b[32m   4106\u001b[39m     \u001b[38;5;28;01mreturn\u001b[39;00m \u001b[38;5;28mself\u001b[39m._getitem_multilevel(key)\n\u001b[32m-> \u001b[39m\u001b[32m4107\u001b[39m indexer = \u001b[38;5;28;43mself\u001b[39;49m\u001b[43m.\u001b[49m\u001b[43mcolumns\u001b[49m\u001b[43m.\u001b[49m\u001b[43mget_loc\u001b[49m\u001b[43m(\u001b[49m\u001b[43mkey\u001b[49m\u001b[43m)\u001b[49m\n\u001b[32m   4108\u001b[39m \u001b[38;5;28;01mif\u001b[39;00m is_integer(indexer):\n\u001b[32m   4109\u001b[39m     indexer = [indexer]\n",
      "\u001b[36mFile \u001b[39m\u001b[32mc:\\Users\\defaultuser0\\Desktop\\ML\\complete-pandas-tutorial\\.venv\\Lib\\site-packages\\pandas\\core\\indexes\\base.py:3819\u001b[39m, in \u001b[36mIndex.get_loc\u001b[39m\u001b[34m(self, key)\u001b[39m\n\u001b[32m   3814\u001b[39m     \u001b[38;5;28;01mif\u001b[39;00m \u001b[38;5;28misinstance\u001b[39m(casted_key, \u001b[38;5;28mslice\u001b[39m) \u001b[38;5;129;01mor\u001b[39;00m (\n\u001b[32m   3815\u001b[39m         \u001b[38;5;28misinstance\u001b[39m(casted_key, abc.Iterable)\n\u001b[32m   3816\u001b[39m         \u001b[38;5;129;01mand\u001b[39;00m \u001b[38;5;28many\u001b[39m(\u001b[38;5;28misinstance\u001b[39m(x, \u001b[38;5;28mslice\u001b[39m) \u001b[38;5;28;01mfor\u001b[39;00m x \u001b[38;5;129;01min\u001b[39;00m casted_key)\n\u001b[32m   3817\u001b[39m     ):\n\u001b[32m   3818\u001b[39m         \u001b[38;5;28;01mraise\u001b[39;00m InvalidIndexError(key)\n\u001b[32m-> \u001b[39m\u001b[32m3819\u001b[39m     \u001b[38;5;28;01mraise\u001b[39;00m \u001b[38;5;167;01mKeyError\u001b[39;00m(key) \u001b[38;5;28;01mfrom\u001b[39;00m\u001b[38;5;250m \u001b[39m\u001b[34;01merr\u001b[39;00m\n\u001b[32m   3820\u001b[39m \u001b[38;5;28;01mexcept\u001b[39;00m \u001b[38;5;167;01mTypeError\u001b[39;00m:\n\u001b[32m   3821\u001b[39m     \u001b[38;5;66;03m# If we have a listlike key, _check_indexing_error will raise\u001b[39;00m\n\u001b[32m   3822\u001b[39m     \u001b[38;5;66;03m#  InvalidIndexError. Otherwise we fall through and re-raise\u001b[39;00m\n\u001b[32m   3823\u001b[39m     \u001b[38;5;66;03m#  the TypeError.\u001b[39;00m\n\u001b[32m   3824\u001b[39m     \u001b[38;5;28mself\u001b[39m._check_indexing_error(key)\n",
      "\u001b[31mKeyError\u001b[39m: 'RainTommorow'"
     ]
    }
   ],
   "source": [
    "def weather_view():\n",
    "    city = input(\"Enter your city name: \")\n",
    "    current_weather = get_current_weather(city)\n",
    "    \n",
    "    #load historical data\n",
    "    historical_data =read_historical_data('weather.csv')\n",
    "\n",
    "    #prepare and and Train the rain prediction Model\n",
    "    X,y,le = prepare_data(historical_data)\n",
    "\n",
    "    rain_model = train_rain_model(X,y)\n",
    "    # Map wind direction to compass points\n",
    "    wind_deg = current_weather['wind_gust_dir'] % 360\n",
    "    compass_points = [\n",
    "    (\"N\", 0, 11.25), (\"NNE\", 11.25, 33.75), (\"NE\", 33.75, 56.25),\n",
    "    (\"ENE\", 56.25, 78.75), (\"E\", 78.75, 101.25), (\"ESE\", 101.25, 123.75),\n",
    "    (\"SE\", 123.75, 146.25), (\"SSE\", 146.25, 168.75), (\"S\", 168.75, 191.25),\n",
    "    (\"SSW\", 191.25, 213.75), (\"SW\", 213.75, 236.25), (\"WSW\", 236.25, 258.75),\n",
    "    (\"W\", 258.75, 281.25), (\"WNW\", 281.25, 303.75), (\"NW\", 303.75, 326.25),\n",
    "    (\"NNW\", 326.25, 348.75)\n",
    "     ]\n",
    "\n",
    "    compass_direction = next(point for point, start, end in compass_points if start <= wind_deg <= end)\n",
    "    compass_direction_encoded = le.transform([compass_direction])[0] if compass_direction in le.classes_ else -1\n",
    "    current_data = {\n",
    "        'Max_temp': current_weather['temp_max'],\n",
    "        'Min_temp': current_weather['temp_min'],\n",
    "        'WindGustDir':compass_direction_encoded,\n",
    "        'wind_gust_speed': current_weather['wind_gust_speed'],\n",
    "        'Humidity': current_weather['humidity'],\n",
    "        'Pressure':current_weather['pressure'],\n",
    "        'Temp':current_weather['current_temperature']\n",
    "    \n",
    "\n",
    "    }\n",
    "    current_df = pd.DataFrame([current_data])\n",
    "    # rain Prediction\n",
    "    rain_prediction = rain_model.predict(current_df)[0]\n",
    "    #prepare and Train the weather prediction Model for temp AND HUMIDITY\n",
    "    X_temp ,y_temp = prepare_data(historical_data, target='temp')\n",
    "    X_humidity ,y_humidity = prepare_data(historical_data, target='humidity')\n",
    "    temp_model = train_regression_model(X_temp,y_temp)\n",
    "    humidity_model = train_regression_model(X_humidity,y_humidity)\n",
    "\n",
    "    #predict future temp and humidity\n",
    "    future_temp = predict_future(temp_model,current_weather['temp_min'])\n",
    "    future_humidity = predict_future(humidity_model,current_weather['humidity'])\n",
    "\n",
    "    #prepare time for future weather\n",
    "    timezone = pytz.timezone('Kenya/Nairobi')\n",
    "    now = datetime.now(timezone)\n",
    "    next_hour = now + timedelta(hours=1)\n",
    "    next_hour = next_hour.replace(minute=0,second=0,microsecond=0)\n",
    "    future_times = [(next_hour + timedelta(hours=i)).strftime(\"%H:00\") for i in range(10)]\n",
    "\n",
    "    #Display Results\n",
    "    print(f\"City: {city},{current_weather['country']}\")\n",
    "    print(f\"Feels like: {current_weather['feel_like']}\")\n",
    "    print(f\"Wind speed: {current_weather['wind_gust_speed']}\")\n",
    "    print(f\"Pressure: {current_weather['pressure']}\")\n",
    "    print(f\"Current temperature: {current_weather['current_temperature']}C\")\n",
    "    print(f\"Maximum temperature: {current_weather['temp_max']}C\")\n",
    "    print(f\"Minimum temperature: {current_weather['temp_min']}C\")\n",
    "    print(f\"Current humidity: {current_weather['humidity']}%\")\n",
    "    print(f\"Weather Prediction : {current_weather['description']}\")\n",
    "    print(f\"Rain Prediction : {'Yes' if rain_prediction else 'No'}\")\n",
    "\n",
    "    print(f\"\\n Future Prediction:\")\n",
    "    for time ,temp in zip(future_times,future_temp):\n",
    "        print(f\"{time}: {round(temp , 1)}C\")\n",
    "    for time ,humidity in zip(future_times,future_humidity):\n",
    "        print(f\"{time}: {round(humidity , 1)}%\")\n",
    "weather_view()\n"
   ]
  },
  {
   "cell_type": "code",
   "execution_count": null,
   "id": "93f53ea0",
   "metadata": {},
   "outputs": [],
   "source": []
  }
 ],
 "metadata": {
  "kernelspec": {
   "display_name": ".venv",
   "language": "python",
   "name": "python3"
  },
  "language_info": {
   "codemirror_mode": {
    "name": "ipython",
    "version": 3
   },
   "file_extension": ".py",
   "mimetype": "text/x-python",
   "name": "python",
   "nbconvert_exporter": "python",
   "pygments_lexer": "ipython3",
   "version": "3.13.3"
  }
 },
 "nbformat": 4,
 "nbformat_minor": 5
}
